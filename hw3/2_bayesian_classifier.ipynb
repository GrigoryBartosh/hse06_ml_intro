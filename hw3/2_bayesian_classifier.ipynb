{
 "cells": [
  {
   "cell_type": "code",
   "execution_count": 1,
   "metadata": {},
   "outputs": [],
   "source": [
    "import numpy as np\n",
    "np.seterr(divide='ignore', invalid='ignore')\n",
    "from sklearn.preprocessing import MinMaxScaler\n",
    "from sklearn.model_selection import train_test_split\n",
    "from sklearn.metrics import accuracy_score, roc_curve\n",
    "from sklearn.exceptions import DataConversionWarning\n",
    "import warnings\n",
    "warnings.filterwarnings(action='ignore', category=DataConversionWarning)\n",
    "from scipy.stats import norm\n",
    "from nltk.tokenize import word_tokenize\n",
    "from nltk.stem import PorterStemmer\n",
    "from collections import Counter\n",
    "import time\n",
    "import pandas as pd\n",
    "import os\n",
    "import matplotlib.pyplot as plt"
   ]
  },
  {
   "cell_type": "code",
   "execution_count": 2,
   "metadata": {},
   "outputs": [],
   "source": [
    "def load_dataset(name, lable_in_last):\n",
    "    path = os.path.join(\"..\", \"datasets\", name)\n",
    "    data = pd.read_csv(path)\n",
    "    data = data.values\n",
    "    if lable_in_last:\n",
    "        xs = data[:, :-1]\n",
    "        ys = data[:, -1]\n",
    "    else:\n",
    "        xs = data[:, 1:]\n",
    "        ys = data[:, 0]\n",
    "    return xs, ys"
   ]
  },
  {
   "cell_type": "code",
   "execution_count": 3,
   "metadata": {},
   "outputs": [],
   "source": [
    "spam_x, spam_y = load_dataset(\"spam.csv\", True)\n",
    "cancer_x, cancer_y = load_dataset(\"cancer.csv\", False)"
   ]
  },
  {
   "cell_type": "code",
   "execution_count": 4,
   "metadata": {},
   "outputs": [],
   "source": [
    "scaler = MinMaxScaler()\n",
    "spam_x = scaler.fit_transform(spam_x)\n",
    "cancer_x = scaler.fit_transform(cancer_x)\n",
    "\n",
    "cancer_y[cancer_y == 'B'] = 0\n",
    "cancer_y[cancer_y == 'M'] = 1\n",
    "cancer_y = cancer_y.astype(\"float32\")"
   ]
  },
  {
   "cell_type": "code",
   "execution_count": 5,
   "metadata": {},
   "outputs": [],
   "source": [
    "spam_train_x, spam_val_x, spam_train_y, spam_val_y = train_test_split(\n",
    "    spam_x, spam_y, test_size=0.2)\n",
    "cancer_train_x, cancer_val_x, cancer_train_y, cancer_val_y = train_test_split(\n",
    "    cancer_x, cancer_y, test_size=0.2)"
   ]
  },
  {
   "cell_type": "code",
   "execution_count": 6,
   "metadata": {},
   "outputs": [],
   "source": [
    "def draw_roc(ys, ys_pred, ps, dataset, name):\n",
    "    fpr, tpr, _ = roc_curve(ys, ps[:, 1])\n",
    "        \n",
    "    plt.cla()\n",
    "    plt.plot(fpr, tpr)\n",
    "    plt.title(\"dataset = {}, accuracy on {} = {:.4f}\".format(\n",
    "        dataset, name, accuracy_score(ys, ys_pred)))\n",
    "    plt.show()"
   ]
  },
  {
   "cell_type": "code",
   "execution_count": 7,
   "metadata": {},
   "outputs": [],
   "source": [
    "def get_bayseain_classifier_prediction(xs, ys, xs_pred):\n",
    "    n, k = xs.shape\n",
    "    m = xs_pred.shape[0]\n",
    "    \n",
    "    ps = np.zeros((m, 2))\n",
    "    ps[:, 0] = np.sum(ys == 0)\n",
    "    ps[:, 1] = np.sum(ys == 1)\n",
    "    for l in [0, 1]:\n",
    "        for i in range(k):\n",
    "            xs_l = xs[ys == l][:, i]\n",
    "            mean = np.mean(xs_l)\n",
    "            std = np.std(xs_l)\n",
    "            for j, x in enumerate(xs_pred):\n",
    "                ps[j, l] *= norm.pdf(x[i], loc=mean, scale=std)\n",
    "                \n",
    "    ps[:, 0], ps[:, 1] = ps[:, 0] / np.sum(ps, axis=1), ps[:, 1] / np.sum(ps, axis=1)\n",
    "    ps = np.nan_to_num(ps)\n",
    "    return np.argmax(ps, axis=1), ps\n",
    "\n",
    "def roc_for_bayseain_classifier(train_xs, train_ys, val_xs, val_ys, dataset):\n",
    "    ys_pred, ps = get_bayseain_classifier_prediction(train_xs, train_ys, val_xs)\n",
    "    draw_roc(val_ys, ys_pred, ps, dataset, \"val\")"
   ]
  },
  {
   "cell_type": "code",
   "execution_count": 8,
   "metadata": {},
   "outputs": [
    {
     "data": {
      "image/png": "[encoded data removed]",
      "text/plain": [
       "<Figure size 432x288 with 1 Axes>"
      ]
     },
     "metadata": {
      "needs_background": "light"
     },
     "output_type": "display_data"
    }
   ],
   "source": [
    "roc_for_bayseain_classifier(spam_train_x, spam_train_y, spam_val_x, spam_val_y, \"spam\")"
   ]
  },
  {
   "cell_type": "code",
   "execution_count": 9,
   "metadata": {},
   "outputs": [
    {
     "data": {
      "image/png": "[encoded data removed]",
      "text/plain": [
       "<Figure size 432x288 with 1 Axes>"
      ]
     },
     "metadata": {
      "needs_background": "light"
     },
     "output_type": "display_data"
    }
   ],
   "source": [
    "roc_for_bayseain_classifier(cancer_train_x, cancer_train_y, cancer_val_x, cancer_val_y, \"cancer\")"
   ]
  },
  {
   "cell_type": "code",
   "execution_count": 10,
   "metadata": {},
   "outputs": [],
   "source": [
    "smsspam_x, smsspam_y = load_dataset(\"smsspam.csv\", False)"
   ]
  },
  {
   "cell_type": "code",
   "execution_count": 11,
   "metadata": {},
   "outputs": [],
   "source": [
    "smsspam_y[smsspam_y == \"ham\"] = 0\n",
    "smsspam_y[smsspam_y == \"spam\"] = 1\n",
    "smsspam_y = smsspam_y.astype(\"float32\")"
   ]
  },
  {
   "cell_type": "code",
   "execution_count": 12,
   "metadata": {},
   "outputs": [],
   "source": [
    "smsspam_train_x, smsspam_val_x, smsspam_train_y, smsspam_val_y = train_test_split(\n",
    "    smsspam_x, smsspam_y, test_size=0.2)"
   ]
  },
  {
   "cell_type": "code",
   "execution_count": 13,
   "metadata": {},
   "outputs": [],
   "source": [
    "def build_vocab(xs, ys):\n",
    "    vocab = [Counter(), Counter()]\n",
    "    words = []\n",
    "    ps = PorterStemmer()\n",
    "    for x, l in zip(xs, ys):\n",
    "        tokens = word_tokenize(str(x[0]).lower())\n",
    "        tokens = list(map(lambda t: ps.stem(t), tokens))\n",
    "        vocab[int(l)].update(tokens)\n",
    "        words += tokens\n",
    "    words = set(words)\n",
    "    return vocab, words\n",
    "\n",
    "def get_bayseain_classifier_on_words_prediction(xs, ys, xs_pred, vocab, words):\n",
    "    n, k = xs.shape\n",
    "    m = xs_pred.shape[0]\n",
    "    \n",
    "    ps = np.zeros((m, 2))\n",
    "    ps[:, 0] = np.sum(ys == 0)\n",
    "    ps[:, 1] = np.sum(ys == 1)\n",
    "    for l in [0, 1]:\n",
    "        l_cnt = np.sum(ys == l)\n",
    "        for w in words:\n",
    "            for j, x in enumerate(xs_pred):\n",
    "                if w in x[0]:\n",
    "                    ps[j, l] *= vocab[int(l)][w] + 1\n",
    "                else:\n",
    "                    ps[j, l] *= l_cnt - vocab[int(l)][w] + 1\n",
    "                ps[j, l] /= l_cnt + 2\n",
    "                \n",
    "    ps[:, 0], ps[:, 1] = ps[:, 0] / np.sum(ps, axis=1), ps[:, 1] / np.sum(ps, axis=1)\n",
    "    ps = np.nan_to_num(ps)\n",
    "    return np.argmax(ps, axis=1), ps"
   ]
  },
  {
   "cell_type": "code",
   "execution_count": 14,
   "metadata": {},
   "outputs": [],
   "source": [
    "def roc_for_bayseain_classifier_on_words(train_xs, train_ys, val_xs, val_ys, dataset):\n",
    "    vocab, words = build_vocab(smsspam_x, smsspam_y)\n",
    "    ys_pred, ps = get_bayseain_classifier_on_words_prediction(train_xs, train_ys, val_xs, vocab, words)\n",
    "    draw_roc(val_ys, ys_pred, ps, dataset, \"val\")"
   ]
  },
  {
   "cell_type": "code",
   "execution_count": 15,
   "metadata": {},
   "outputs": [
    {
     "data": {
      "image/png": "[encoded data removed]",
      "text/plain": [
       "<Figure size 432x288 with 1 Axes>"
      ]
     },
     "metadata": {
      "needs_background": "light"
     },
     "output_type": "display_data"
    }
   ],
   "source": [
    "roc_for_bayseain_classifier_on_words(smsspam_train_x, smsspam_train_y, smsspam_val_x, smsspam_val_y, \"smsspam\")"
   ]
  }
 ],
 "metadata": {
  "kernelspec": {
   "display_name": "Python 3",
   "language": "python",
   "name": "python3"
  },
  "language_info": {
   "codemirror_mode": {
    "name": "ipython",
    "version": 3
   },
   "file_extension": ".py",
   "mimetype": "text/x-python",
   "name": "python",
   "nbconvert_exporter": "python",
   "pygments_lexer": "ipython3",
   "version": "3.6.7"
  }
 },
 "nbformat": 4,
 "nbformat_minor": 2
}
