{
 "cells": [
  {
   "cell_type": "code",
   "execution_count": 1,
   "metadata": {},
   "outputs": [],
   "source": [
    "import numpy as np\n",
    "from sklearn.model_selection import train_test_split\n",
    "from sklearn.metrics import accuracy_score, roc_curve, roc_auc_score\n",
    "import pandas as pd\n",
    "import os\n",
    "import matplotlib.pyplot as plt"
   ]
  },
  {
   "cell_type": "code",
   "execution_count": 2,
   "metadata": {},
   "outputs": [],
   "source": [
    "def load_dataset(name, lable_in_last):\n",
    "    path = os.path.join(\"..\", \"datasets\", name)\n",
    "    data = pd.read_csv(path)\n",
    "    data = data.values\n",
    "    if lable_in_last:\n",
    "        xs = data[:, :-1].astype('float32')\n",
    "        ys = data[:, -1]\n",
    "    else:\n",
    "        xs = data[:, 1:].astype('float32')\n",
    "        ys = data[:, 0]\n",
    "    return xs, ys"
   ]
  },
  {
   "cell_type": "code",
   "execution_count": 3,
   "metadata": {},
   "outputs": [],
   "source": [
    "spam_x, spam_y = load_dataset(\"spam.csv\", True)\n",
    "cancer_x, cancer_y = load_dataset(\"cancer.csv\", False)"
   ]
  },
  {
   "cell_type": "code",
   "execution_count": 4,
   "metadata": {},
   "outputs": [],
   "source": [
    "spam_train_x, spam_val_x, spam_train_y, spam_val_y = train_test_split(\n",
    "    spam_x, spam_y, test_size=0.2)\n",
    "cancer_train_x, cancer_val_x, cancer_train_y, cancer_val_y = train_test_split(\n",
    "    cancer_x, cancer_y, test_size=0.2)"
   ]
  },
  {
   "cell_type": "code",
   "execution_count": 5,
   "metadata": {},
   "outputs": [],
   "source": [
    "class Tree:\n",
    "    class Node:\n",
    "        def __init__(self, dep, l=None, r=None, f_indx=None, val=None, probs=None):\n",
    "            self.dep = dep\n",
    "            self.l = l\n",
    "            self.r = r\n",
    "            self.f_indx = f_indx\n",
    "            self.val = val\n",
    "            self.probs = probs\n",
    "        \n",
    "    def __init__(self, depth):\n",
    "        self.depth = depth\n",
    "        self.root = Tree.Node(0)\n",
    "        \n",
    "    def calc_probs(self, ys):\n",
    "        n = ys.shape[0]\n",
    "        if n is 0:\n",
    "            return np.zeros(self.clss_all.shape)\n",
    "        clss, cnts = np.unique(ys, return_counts=True)\n",
    "        ys_clss_cnts = dict(zip(clss, cnts))\n",
    "        probs = [ys_clss_cnts.get(c, 0) / n for c in self.clss_all]\n",
    "        return np.array(probs)\n",
    "        \n",
    "    def do_split(f_indx, val, xs, ys=None, return_indxs=False):\n",
    "        l_indxs = xs[:, f_indx] < val\n",
    "        r_indxs = np.invert(l_indxs)\n",
    "        \n",
    "        if ys is None:\n",
    "            res = (xs[l_indxs], xs[r_indxs])\n",
    "        else:\n",
    "            res = ((xs[l_indxs], xs[r_indxs]), (ys[l_indxs], ys[r_indxs]))\n",
    "            \n",
    "        if not return_indxs:\n",
    "            return res\n",
    "        else:\n",
    "            return res, (l_indxs, r_indxs)\n",
    "        \n",
    "    def calc_gini(y1, y2):\n",
    "        n = y1.shape[0] + y2.shape[0]\n",
    "        gini = 0.0\n",
    "        for y in [y1, y2]:\n",
    "            ny = y.shape[0]\n",
    "            if ny == 0:\n",
    "                continue\n",
    "            \n",
    "            _, cnts = np.unique(y, return_counts=True)\n",
    "            s = np.sum(cnts ** 2) / ny ** 2\n",
    "            gini += (1.0 - s) * (ny / n)\n",
    "        return gini\n",
    "    \n",
    "    def find_feature_to_split(xs, ys):\n",
    "        n = xs.shape[0]\n",
    "        f_cnt = xs.shape[1]\n",
    "        \n",
    "        ginis = np.ones((f_cnt, n))\n",
    "        for f_indx in range(f_cnt):\n",
    "            for i in range(n):\n",
    "                val = xs[i, f_indx]\n",
    "                _, (l_ys, r_ys) = Tree.do_split(f_indx, val, xs, ys)\n",
    "                ginis[f_indx, i] = Tree.calc_gini(l_ys, r_ys)\n",
    "                \n",
    "        f_indx, i = np.unravel_index(np.argmin(ginis, axis=None), ginis.shape)\n",
    "        return f_indx, xs[i, f_indx]\n",
    "        \n",
    "    def split_node(self, node, xs, ys):\n",
    "        clss_cnt = np.unique(ys).shape[0]\n",
    "        if (clss_cnt == 1) or (node.dep == self.depth):\n",
    "            node.probs = self.calc_probs(ys)\n",
    "            return\n",
    "        \n",
    "        f_indx, val = Tree.find_feature_to_split(xs, ys)\n",
    "        (l_xs, r_xs), (l_ys, r_ys) = Tree.do_split(f_indx, val, xs, ys)\n",
    "        \n",
    "        node.l = Tree.Node(node.dep + 1)\n",
    "        node.r = Tree.Node(node.dep + 1)\n",
    "        node.f_indx = f_indx\n",
    "        node.val = val\n",
    "        \n",
    "        self.split_node(node.l, l_xs, l_ys)\n",
    "        self.split_node(node.r, r_xs, r_ys)\n",
    "        \n",
    "    def build(self, xs, ys):\n",
    "        self.clss_all = np.unique(ys)\n",
    "        self.root = Tree.Node(0)\n",
    "        self.split_node(self.root, xs, ys)\n",
    "        \n",
    "    def get_probs_for_node(node, xs):\n",
    "        if xs.shape[0] == 0:\n",
    "            return None\n",
    "        \n",
    "        if node.probs is not None:\n",
    "            return np.array([node.probs] * xs.shape[0])\n",
    "        \n",
    "        (l_xs, r_xs), (l_indxs, r_indxs) = Tree.do_split(node.f_indx, node.val, xs, return_indxs=True)\n",
    "        l_probs = Tree.get_probs_for_node(node.l, l_xs)\n",
    "        r_probs = Tree.get_probs_for_node(node.r, r_xs)\n",
    "        \n",
    "        if l_probs is None:\n",
    "            return r_probs\n",
    "        elif r_probs is None:\n",
    "            return l_probs\n",
    "        else:\n",
    "            res = np.zeros((xs.shape[0], l_probs.shape[1]))\n",
    "            res[l_indxs] = l_probs\n",
    "            res[r_indxs] = r_probs\n",
    "            return res\n",
    "        \n",
    "    def get_probs(self, xs):\n",
    "        return Tree.get_probs_for_node(self.root, xs)\n",
    "        \n",
    "    def predict(self, xs):\n",
    "        return self.clss_all[np.argmax(self.get_probs(xs), axis=1)]"
   ]
  },
  {
   "cell_type": "code",
   "execution_count": 6,
   "metadata": {},
   "outputs": [],
   "source": [
    "def task_9(train_x, val_x, train_y, val_y, dataset_name):\n",
    "    depths = list(range(1, 11))\n",
    "    \n",
    "    trees = []\n",
    "    accs = []\n",
    "    for dep in depths:\n",
    "        tree = Tree(dep)\n",
    "        tree.build(train_x, train_y)\n",
    "        acc = accuracy_score(val_y, tree.predict(val_x))\n",
    "        accs.append(acc)\n",
    "        trees.append(tree)\n",
    "        \n",
    "    plt.plot(depths, accs)\n",
    "    plt.title(\"Trees accuracies for dataset '{}'\".format(dataset_name))\n",
    "    plt.show()\n",
    "        \n",
    "    accs = np.array(accs)\n",
    "    best_depth = np.argmax(accs)\n",
    "    print(\"Best accuracy for depth = {}\".format(depths[best_depth]))\n",
    "    \n",
    "    probs = trees[best_depth].get_probs(val_x)\n",
    "    fpr, tpr, _ = roc_curve(val_y, probs[:, 1], pos_label=trees[best_depth].clss_all[1])\n",
    "    \n",
    "    plt.plot(fpr, tpr)\n",
    "    plt.title(\"ROC, dataset '{}', depth {}\".format(dataset_name, depths[best_depth]))\n",
    "    plt.show()\n",
    "    \n",
    "    auc = roc_auc_score(val_y, probs[:, 1])\n",
    "    print(\"For depth = {}, AUC score = {}\".format(depths[best_depth], auc))"
   ]
  },
  {
   "cell_type": "code",
   "execution_count": 7,
   "metadata": {},
   "outputs": [
    {
     "data": {
      "image/png": "[encoded data removed]",
      "text/plain": [
       "<Figure size 432x288 with 1 Axes>"
      ]
     },
     "metadata": {
      "needs_background": "light"
     },
     "output_type": "display_data"
    },
    {
     "name": "stdout",
     "output_type": "stream",
     "text": [
      "Best accuracy for depth = 6\n"
     ]
    },
    {
     "data": {
      "image/png": "[encoded data removed]",
      "text/plain": [
       "<Figure size 432x288 with 1 Axes>"
      ]
     },
     "metadata": {
      "needs_background": "light"
     },
     "output_type": "display_data"
    },
    {
     "name": "stdout",
     "output_type": "stream",
     "text": [
      "For depth = 6, AUC score = 0.9242940240628418\n"
     ]
    }
   ],
   "source": [
    "task_9(spam_train_x, spam_val_x, spam_train_y, spam_val_y, \"spam\")"
   ]
  },
  {
   "cell_type": "code",
   "execution_count": 8,
   "metadata": {},
   "outputs": [
    {
     "data": {
      "image/png": "[encoded data removed]",
      "text/plain": [
       "<Figure size 432x288 with 1 Axes>"
      ]
     },
     "metadata": {
      "needs_background": "light"
     },
     "output_type": "display_data"
    },
    {
     "name": "stdout",
     "output_type": "stream",
     "text": [
      "Best accuracy for depth = 4\n"
     ]
    },
    {
     "data": {
      "image/png": "[encoded data removed]",
      "text/plain": [
       "<Figure size 432x288 with 1 Axes>"
      ]
     },
     "metadata": {
      "needs_background": "light"
     },
     "output_type": "display_data"
    },
    {
     "name": "stdout",
     "output_type": "stream",
     "text": [
      "For depth = 4, AUC score = 0.9899968243886947\n"
     ]
    }
   ],
   "source": [
    "task_9(cancer_train_x, cancer_val_x, cancer_train_y, cancer_val_y, \"cancer\")"
   ]
  }
 ],
 "metadata": {
  "kernelspec": {
   "display_name": "Python 3",
   "language": "python",
   "name": "python3"
  },
  "language_info": {
   "codemirror_mode": {
    "name": "ipython",
    "version": 3
   },
   "file_extension": ".py",
   "mimetype": "text/x-python",
   "name": "python",
   "nbconvert_exporter": "python",
   "pygments_lexer": "ipython3",
   "version": "3.6.7"
  }
 },
 "nbformat": 4,
 "nbformat_minor": 2
}
