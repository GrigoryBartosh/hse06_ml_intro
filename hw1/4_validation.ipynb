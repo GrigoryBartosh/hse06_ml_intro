{
 "cells": [
  {
   "cell_type": "code",
   "execution_count": 1,
   "metadata": {},
   "outputs": [],
   "source": [
    "import numpy as np\n",
    "from sklearn.model_selection import train_test_split\n",
    "import pandas as pd\n",
    "import os"
   ]
  },
  {
   "cell_type": "code",
   "execution_count": 2,
   "metadata": {},
   "outputs": [],
   "source": [
    "def load_dataset(name, lable_in_last):\n",
    "    path = os.path.join(\"..\", \"datasets\", name)\n",
    "    data = pd.read_csv(path)\n",
    "    data = data.values\n",
    "    if lable_in_last:\n",
    "        xs = data[:, :-1].astype('float32')\n",
    "        ys = data[:, -1]\n",
    "    else:\n",
    "        xs = data[:, 1:].astype('float32')\n",
    "        ys = data[:, 0]\n",
    "    return xs, ys"
   ]
  },
  {
   "cell_type": "code",
   "execution_count": 3,
   "metadata": {},
   "outputs": [],
   "source": [
    "spam_x, spam_y = load_dataset(\"spam.csv\", True)\n",
    "cancer_x, cancer_y = load_dataset(\"cancer.csv\", False)"
   ]
  },
  {
   "cell_type": "code",
   "execution_count": 4,
   "metadata": {},
   "outputs": [
    {
     "name": "stdout",
     "output_type": "stream",
     "text": [
      "For dataset 'spam':\n",
      "'0' in val: 0.2027\n",
      "'1' in val: 0.1964\n"
     ]
    }
   ],
   "source": [
    "spam_train_x, spam_val_x, spam_train_y, spam_val_y = train_test_split(\n",
    "    spam_x, spam_y, test_size=0.2)\n",
    "\n",
    "cnt_train_0 = np.sum(spam_train_y == 0)\n",
    "cnt_train_1 = np.sum(spam_train_y == 1)\n",
    "cnt_val_0 = np.sum(spam_val_y == 0)\n",
    "cnt_val_1 = np.sum(spam_val_y == 1)\n",
    "\n",
    "print(\"For dataset 'spam':\")\n",
    "print(\"'0' in val: {:.4}\".format(cnt_val_0 / (cnt_train_0 + cnt_val_0)))\n",
    "print(\"'1' in val: {:.4}\".format(cnt_val_1 / (cnt_train_1 + cnt_val_1)))"
   ]
  },
  {
   "cell_type": "code",
   "execution_count": 5,
   "metadata": {},
   "outputs": [
    {
     "name": "stdout",
     "output_type": "stream",
     "text": [
      "For dataset 'spam':\n",
      "'M' in val: 0.1981\n",
      "'B' in val: 0.2017\n"
     ]
    }
   ],
   "source": [
    "cancer_train_x, cancer_val_x, cancer_train_y, cancer_val_y = train_test_split(\n",
    "    cancer_x, cancer_y, test_size=0.2)\n",
    "\n",
    "cnt_train_M = np.sum(cancer_train_y == 'M')\n",
    "cnt_train_B = np.sum(cancer_train_y == 'B')\n",
    "cnt_val_M = np.sum(cancer_val_y == 'M')\n",
    "cnt_val_B = np.sum(cancer_val_y == 'B')\n",
    "\n",
    "print(\"For dataset 'spam':\")\n",
    "print(\"'M' in val: {:.4}\".format(cnt_val_M / (cnt_train_M + cnt_val_M)))\n",
    "print(\"'B' in val: {:.4}\".format(cnt_val_B / (cnt_train_B + cnt_val_B)))"
   ]
  }
 ],
 "metadata": {
  "kernelspec": {
   "display_name": "Python 3",
   "language": "python",
   "name": "python3"
  },
  "language_info": {
   "codemirror_mode": {
    "name": "ipython",
    "version": 3
   },
   "file_extension": ".py",
   "mimetype": "text/x-python",
   "name": "python",
   "nbconvert_exporter": "python",
   "pygments_lexer": "ipython3",
   "version": "3.6.7"
  }
 },
 "nbformat": 4,
 "nbformat_minor": 2
}
